{
 "cells": [
  {
   "cell_type": "markdown",
   "metadata": {},
   "source": [
    "# Preparation of category reduction lists"
   ]
  },
  {
   "cell_type": "code",
   "execution_count": null,
   "metadata": {},
   "outputs": [],
   "source": [
    "import requests # library to handle requests\n",
    "import pandas as pd # library for data analsysis\n",
    "import numpy as np # library to handle data in a vectorized manner\n",
    "import pickle"
   ]
  },
  {
   "cell_type": "markdown",
   "metadata": {},
   "source": [
    "### Collect all categories from Foursquare"
   ]
  },
  {
   "cell_type": "code",
   "execution_count": 3,
   "metadata": {},
   "outputs": [],
   "source": [
    "# Load the Credentials for the APIs that will be used\n",
    "# FOURSQUARE\n",
    "f = open('Credentials_Foursquare_API.pckl', 'rb')\n",
    "cred = pickle.load(f)\n",
    "f.close()\n",
    "CLIENT_ID = cred['CLIENT_ID']\n",
    "CLIENT_SECRET = cred['CLIENT_SECRET']\n",
    "VERSION = '20180604'\n",
    "LIMIT = 2\n"
   ]
  },
  {
   "cell_type": "code",
   "execution_count": 4,
   "metadata": {},
   "outputs": [],
   "source": [
    "url = 'https://api.foursquare.com/v2/venues/categories?client_id={}&client_secret={}&v={}'.format(CLIENT_ID, CLIENT_SECRET,VERSION)\n",
    "results = requests.get(url).json()"
   ]
  },
  {
   "cell_type": "code",
   "execution_count": 29,
   "metadata": {},
   "outputs": [
    {
     "name": "stdout",
     "output_type": "stream",
     "text": [
      "The 10 main categories are always considered.\n",
      "You'll be asked wether to consider further subcategories. Please answer (y/n, n by default)\n",
      "Case you do not wish to consider further subcategories, those will be merged to their parent category.\n"
     ]
    },
    {
     "name": "stdin",
     "output_type": "stream",
     "text": [
      "Main category Arts & Entertainment has 36 childs. Do you wand to consider them? (y/n/l, l to se list, n by default) n\n",
      "Main category College & University has 23 childs. Do you wand to consider them? (y/n/l, l to se list, n by default) n\n",
      "Main category Event has 12 childs. Do you wand to consider them? (y/n/l, l to se list, n by default) n\n",
      "Main category Food has 92 childs. Do you wand to consider them? (y/n/l, l to se list, n by default) n\n",
      "Main category Nightlife Spot has 7 childs. Do you wand to consider them? (y/n/l, l to se list, n by default) n\n",
      "Main category Outdoors & Recreation has 62 childs. Do you wand to consider them? (y/n/l, l to se list, n by default) n\n",
      "Main category Professional & Other Places has 43 childs. Do you wand to consider them? (y/n/l, l to se list, n by default) n\n",
      "Main category Residence has 5 childs. Do you wand to consider them? (y/n/l, l to se list, n by default) n\n",
      "Main category Shop & Service has 145 childs. Do you wand to consider them? (y/n/l, l to se list, n by default) n\n",
      "Main category Travel & Transport has 34 childs. Do you wand to consider them? (y/n/l, l to se list, n by default) n\n"
     ]
    },
    {
     "name": "stdout",
     "output_type": "stream",
     "text": [
      "Total categories listed:  941\n",
      "Dataframe generated shape (941, 6)\n",
      "The lists of categories created are 10, and their names are:\n"
     ]
    },
    {
     "data": {
      "text/plain": [
       "dict_keys(['Arts & Entertainment', 'College & University', 'Event', 'Food', 'Nightlife Spot', 'Outdoors & Recreation', 'Professional & Other Places', 'Residence', 'Shop & Service', 'Travel & Transport'])"
      ]
     },
     "execution_count": 29,
     "metadata": {},
     "output_type": "execute_result"
    }
   ],
   "source": [
    "# Generate a dataframe where all the categories will be stored for clarity\n",
    "columns_name=['cat_id','cat','subcat1','subcat2','subcat3','subcat4']\n",
    "cat_df=pd.DataFrame(columns=columns_name)\n",
    "\n",
    "# Generate a dictionary that will contain all the categories to be considered as keys\n",
    "# and lists of all subcategories not be considered\n",
    "cat_lists_dic={}\n",
    "\n",
    "# A counter of the total categories that Foursquare has declared considering is initialised\n",
    "total_cat=0\n",
    "\n",
    "#Instruction to the user to generate the lists of categories\n",
    "print('The {} main categories are always considered.'.format(len(results['response']['categories'])))\n",
    "print(\"You'll be asked wether to consider further subcategories. Please answer (y/n, n by default)\")\n",
    "print('Case you do not wish to consider further subcategories, those will be merged to their parent category.')\n",
    "\n",
    "# A set of nested loops will run and capture all the categories.\n",
    "# Note that Foursquare has nested categories up to 5 levels.\n",
    "# at the same time will interrogate the user as indicated previously\n",
    "\n",
    "# Loop on main categories\n",
    "for i in range(0,len(results['response']['categories'])):\n",
    "    total_cat=total_cat+1\n",
    "    # Collect the information from results\n",
    "    catname=results['response']['categories'][i]['name']\n",
    "    catid=results['response']['categories'][i]['id']\n",
    "    catchilds=len(results['response']['categories'][i]['categories'])\n",
    "    \n",
    "    # Store the information in the dataframe and the dictionary\n",
    "    # The category is added to the categories dataframe\n",
    "    cat_df=cat_df.append({'cat_id':catid,\n",
    "                          'cat':catname},\n",
    "                           ignore_index=True)\n",
    "    # The category name provides the name to te new dictionary, and at the same time is the first element of the list \n",
    "    cat_lists_dic[catname]=[catname]\n",
    "\n",
    "    # The user is interrogated \n",
    "    subcat1q = input(\"Main category {} has {} childs. Do you wand to consider them? (y/n/l, l to se list, n by default)\".format(catname,catchilds))\n",
    "    if str.lower(subcat1q)=='l':\n",
    "        print(results['response']['categories'][i]['categories'])\n",
    "        subcat1q = input(\"Do you wand to consider them? (y/n, n by default)\")\n",
    "    if str.lower(subcat1q) !='y': subcat1q='n'\n",
    "\n",
    "# Loop on subcategories level 1\n",
    "    for j in range(0,len(results['response']['categories'][i]['categories'])):\n",
    "        total_cat=total_cat+1\n",
    "        # Collect the information from results\n",
    "        subcat1name=results['response']['categories'][i]['categories'][j]['name']\n",
    "        subcat1id=results['response']['categories'][i]['categories'][j]['id']\n",
    "        subcat1childs=len(results['response']['categories'][i]['categories'][j]['categories'])\n",
    "        \n",
    "        # Store the information in the dataframe and the dictionary\n",
    "        # The category is added to the categories dataframe\n",
    "        cat_df=cat_df.append({'cat_id':subcat1id,\n",
    "                              'cat':catname,\n",
    "                              'subcat1':subcat1name},\n",
    "                               ignore_index=True) \n",
    "        # If the subcategory is to be considered, it provides the name to te new dictionary, and at the same time is the first element of the list \n",
    "        # alternatively is added to the parent list\n",
    "        if subcat1q=='n':\n",
    "            cat_lists_dic[catname].append(subcat1name)\n",
    "            subcat2q='n'\n",
    "        else:\n",
    "            cat_lists_dic[subcat1name]=[subcat1name]\n",
    "            if subcat1childs != 0:\n",
    "                # The user is interrogated \n",
    "                subcat2q = input(\"Subcategory 1 {} has {} childs. Do you wand to consider them? (y/n/l, l to se list, n by default)\".format(subcat1name,subcat1childs))\n",
    "            if str.lower(subcat2q)=='l':\n",
    "                print(results['response']['categories'][i]['categories'][j]['categories'])\n",
    "                subcat2q = input(\"Do you wand to consider them? (y/n, n by default)\")\n",
    "            if str.lower(subcat2q) !='y': subcat2q='n'\n",
    "\n",
    "\n",
    "# Loop on subcategories level 2\n",
    "        for k in range(0,len(results['response']['categories'][i]['categories'][j]['categories'])):\n",
    "            total_cat=total_cat+1\n",
    "            # Collect the information from results\n",
    "            subcat2name=results['response']['categories'][i]['categories'][j]['categories'][k]['name']\n",
    "            subcat2id=results['response']['categories'][i]['categories'][j]['categories'][k]['id']\n",
    "            subcat2childs=len(results['response']['categories'][i]['categories'][j]['categories'][k]['categories'])\n",
    "            \n",
    "            # Store the information in the dataframe and the dictionary\n",
    "            # The category is added to the categories dataframe\n",
    "            cat_df=cat_df.append({'cat_id':subcat2id,\n",
    "                                  'cat':catname,\n",
    "                                  'subcat1':subcat1name,\n",
    "                                  'subcat2':subcat2name},\n",
    "                                   ignore_index=True) \n",
    "            # If the subcategory is to be considered, it provides the name to te new dictionary, and at the same time is the first element of the list \n",
    "            # alternatively is added to the parent list\n",
    "            if subcat1q=='n':\n",
    "                cat_lists_dic[catname].append(subcat2name)\n",
    "                subcat3q='n'\n",
    "            elif subcat2q=='n':\n",
    "                cat_lists_dic[subcat1name].append(subcat2name)\n",
    "                subcat3q='n'\n",
    "            else:\n",
    "                cat_lists_dic[subcat2name]=[subcat2name]\n",
    "                if subcat2childs != 0:\n",
    "                    # The user is interrogated \n",
    "                    subcat3q = input(\"Subcategory 2 {} has {} childs. Do you wand to consider them? (y/n/l, l to se list, n by default)\".format(subcat2name,subcat2childs))\n",
    "                if str.lower(subcat3q)=='l':\n",
    "                    print(results['response']['categories'][i]['categories'][j]['categories'][k]['categories'])\n",
    "                    subcat3q = input(\"Do you wand to consider them? (y/n, n by default)\")\n",
    "                if str.lower(subcat3q) !='y': subcat3q='n'\n",
    "\n",
    "# Loop on subcategories level 3\n",
    "            for l in range(0,len(results['response']['categories'][i]['categories'][j]['categories'][k]['categories'])):\n",
    "                total_cat=total_cat+1\n",
    "                # Collect the information from results\n",
    "                subcat3name=results['response']['categories'][i]['categories'][j]['categories'][k]['categories'][l]['name']\n",
    "                subcat3id=results['response']['categories'][i]['categories'][j]['categories'][k]['categories'][l]['id']\n",
    "                subcat3childs=len(results['response']['categories'][i]['categories'][j]['categories'][k]['categories'][l]['categories'])\n",
    "            \n",
    "                # Store the information in the dataframe and the dictionary\n",
    "                # The category is added to the categories dataframe\n",
    "                cat_df=cat_df.append({'cat_id':subcat3id,\n",
    "                                      'cat':catname,\n",
    "                                      'subcat1':subcat1name,\n",
    "                                      'subcat2':subcat2name,\n",
    "                                      'subcat3':subcat3name},\n",
    "                                       ignore_index=True)\n",
    "                # If the subcategory is to be considered, it provides the name to te new dictionary, and at the same time is the first element of the list \n",
    "                # alternatively is added to the parent list\n",
    "                if subcat1q=='n':\n",
    "                    cat_lists_dic[catname].append(subcat3name)\n",
    "                elif subcat2q=='n':\n",
    "                    cat_lists_dic[subcat1name].append(subcat3name)\n",
    "                elif subcat3q=='n':\n",
    "                    cat_lists_dic[subcat2name].append(subcat3name)\n",
    "                else:\n",
    "                    cat_lists_dic[subcat3name]=[subcat3name]\n",
    "                    \n",
    "# Loop on subcategories level 4\n",
    "                for m in range(0,len(results['response']['categories'][i]['categories'][j]['categories'][k]['categories'][l]['categories'])):\n",
    "                    total_cat=total_cat+1\n",
    "                    # Collect the information from results\n",
    "                    subcat4name=results['response']['categories'][i]['categories'][j]['categories'][k]['categories'][l]['categories'][m]['name']\n",
    "                    subcat4id=results['response']['categories'][i]['categories'][j]['categories'][k]['categories'][l]['categories'][m]['id']\n",
    "                    subcat4childs=len(results['response']['categories'][i]['categories'][j]['categories'][k]['categories'][l]['categories'][m]['categories'])\n",
    "                    # A check whether further levels of categories have been developed is performed\n",
    "                    if subcat4childs != 0: \n",
    "                        print('WARNING!')\n",
    "                        print('subcat2name {}.{}.{}.{}.{} is: {} - has {} childs,'.format(i,j,k,l,m,subcat4name,subcat4childs))\n",
    "                        print(\"and won't be added to any list!, please review code or disrigard any category reduction.\")\n",
    "\n",
    "                    # Store the information in the dataframe and the dictionary\n",
    "                    # The category is added to the categories dataframe\n",
    "                    cat_df=cat_df.append({'cat_id':subcat4id,\n",
    "                                          'cat':catname,\n",
    "                                          'subcat1':subcat1name,\n",
    "                                          'subcat2':subcat2name,\n",
    "                                          'subcat3':subcat3name,\n",
    "                                          'subcat4':subcat4name},\n",
    "                                           ignore_index=True)\n",
    "                    # If the subcategory is to be considered, it provides the name to te new dictionary, and at the same time is the first element of the list \n",
    "                    # alternatively is added to the parent list\n",
    "                    if subcat1q=='n':\n",
    "                        cat_lists_dic[catname].append(subcat4name)\n",
    "                    elif subcat2q=='n':\n",
    "                        cat_lists_dic[subcat1name].append(subcat4name)\n",
    "               n\n",
    "            elif subcat3q=='n':\n",
    "                        cat_lists_dic[subcat2name].append(subcat4name)\n",
    "                    else:\n",
    "                        cat_lists_dic[subcat3name].append(subcat4name)\n",
    "\n",
    "                    \n",
    "print('Total categories listed: ',total_cat)\n",
    "print('Dataframe generated shape',cat_df.shape)\n",
    "print('The lists of categories created are {}, and their names are:'.format(len(cat_lists_dic.keys())))\n",
    "cat_lists_dic.keys()"
   ]
  },
  {
   "cell_type": "markdown",
   "metadata": {},
   "source": [
    "## Split some of the main categories"
   ]
  },
  {
   "cell_type": "code",
   "execution_count": 30,
   "metadata": {},
   "outputs": [
    {
     "name": "stdout",
     "output_type": "stream",
     "text": [
      "Food list length:  349\n",
      "new lists length:  257 6 349\n"
     ]
    }
   ],
   "source": [
    "# Split some of the lists\n",
    "# Slit Food list into 3: Restaurant, Cafe, Food (the remaning)\n",
    "print('Food list length: ',len(cat_lists_dic['Food']))\n",
    "\n",
    "Restaurants = [venue for venue in cat_lists_dic['Food'] if ('Restaurant' in venue or 'Joint' in venue or 'Steakhouse' in venue)]\n",
    "Cafe = [venue for venue in cat_lists_dic['Food'] if ('Café' in venue or 'Coffee' in venue or 'Tea ' in venue)]\n",
    "Food_remaining = cat_lists_dic['Food']\n",
    "print('new lists length: ',len(Restaurants),len(Cafe),len(Food_remaining))\n"
   ]
  },
  {
   "cell_type": "code",
   "execution_count": 31,
   "metadata": {},
   "outputs": [
    {
     "name": "stdout",
     "output_type": "stream",
     "text": [
      "new lists length:  257 6 86\n"
     ]
    },
    {
     "data": {
      "text/plain": [
       "dict_keys(['Arts & Entertainment', 'College & University', 'Event', 'Food', 'Nightlife Spot', 'Outdoors & Recreation', 'Professional & Other Places', 'Residence', 'Shop & Service', 'Travel & Transport', 'Restaurants', 'Cafe'])"
      ]
     },
     "execution_count": 31,
     "metadata": {},
     "output_type": "execute_result"
    }
   ],
   "source": [
    "for venue in Restaurants:\n",
    "    Food_remaining.remove(venue)\n",
    "for venue in Cafe:\n",
    "    Food_remaining.remove(venue)\n",
    "    \n",
    "print('new lists length: ',len(Restaurants),len(Cafe),len(Food_remaining))\n",
    "\n",
    "cat_lists_dic['Food']=Food_remaining\n",
    "cat_lists_dic['Restaurants']=Restaurants\n",
    "cat_lists_dic['Cafe']=Cafe\n",
    "\n",
    "cat_lists_dic.keys()"
   ]
  },
  {
   "cell_type": "markdown",
   "metadata": {},
   "source": [
    "## Safe dictionary and df of lists in two separte files"
   ]
  },
  {
   "cell_type": "code",
   "execution_count": 34,
   "metadata": {},
   "outputs": [
    {
     "name": "stdin",
     "output_type": "stream",
     "text": [
      "Provide the file name where the dictionary will be saved, DO NOT include the extension:  Cat_red_13\n"
     ]
    },
    {
     "name": "stdout",
     "output_type": "stream",
     "text": [
      "File saved\n"
     ]
    }
   ],
   "source": [
    "#S ave the Lists in a pickle file\n",
    "file_name = input('Provide the file name where the dictionary will be saved, DO NOT include the extension: ')\n",
    "file_name=file_name+'.pckl'\n",
    "f = open(file_name, 'wb')\n",
    "pickle.dump(cat_lists_dic, f)\n",
    "f.close()\n",
    "print('File saved')"
   ]
  },
  {
   "cell_type": "code",
   "execution_count": 7,
   "metadata": {},
   "outputs": [
    {
     "name": "stdout",
     "output_type": "stream",
     "text": [
      "File saved\n"
     ]
    }
   ],
   "source": [
    "# Save the dataframe in a pickle file\n",
    "file_name = 'Cat_all_df.pckl'\n",
    "f = open(file_name, 'wb')\n",
    "pickle.dump(cat_df, f)\n",
    "f.close()\n",
    "print('File saved')"
   ]
  },
  {
   "cell_type": "code",
   "execution_count": 9,
   "metadata": {},
   "outputs": [],
   "source": [
    "# Save the dataframe in an xls file as well\n",
    "cat_df.to_excel(excel_writer=\"cat_df.xls\",sheet_name='Categories',index=False)"
   ]
  },
  {
   "cell_type": "markdown",
   "metadata": {},
   "source": [
    "#### Load files to review"
   ]
  },
  {
   "cell_type": "code",
   "execution_count": 3,
   "metadata": {},
   "outputs": [],
   "source": [
    "# Load the Category reduction criteria \n",
    "f = open('Cat_red_13.pckl', 'rb')\n",
    "cat_lists_dic = pickle.load(f)\n",
    "f.close()"
   ]
  },
  {
   "cell_type": "code",
   "execution_count": 7,
   "metadata": {},
   "outputs": [
    {
     "data": {
      "text/plain": [
       "dict_keys(['Arts & Entertainment', 'College & University', 'Event', 'Food', 'Nightlife Spot', 'Outdoors & Recreation', 'Professional & Other Places', 'Residence', 'Shop & Service', 'Travel & Transport', 'Restaurants', 'Cafe'])"
      ]
     },
     "execution_count": 7,
     "metadata": {},
     "output_type": "execute_result"
    }
   ],
   "source": [
    "cat_lists_dic.keys()"
   ]
  },
  {
   "cell_type": "code",
   "execution_count": null,
   "metadata": {},
   "outputs": [],
   "source": []
  }
 ],
 "metadata": {
  "kernelspec": {
   "display_name": "Python 3",
   "language": "python",
   "name": "python3"
  },
  "language_info": {
   "codemirror_mode": {
    "name": "ipython",
    "version": 3
   },
   "file_extension": ".py",
   "mimetype": "text/x-python",
   "name": "python",
   "nbconvert_exporter": "python",
   "pygments_lexer": "ipython3",
   "version": "3.7.4"
  }
 },
 "nbformat": 4,
 "nbformat_minor": 4
}
